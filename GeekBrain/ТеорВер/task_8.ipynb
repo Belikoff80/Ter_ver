{
 "cells": [
  {
   "cell_type": "code",
   "execution_count": 79,
   "metadata": {},
   "outputs": [],
   "source": [
    "import numpy as np"
   ]
  },
  {
   "attachments": {},
   "cell_type": "markdown",
   "metadata": {},
   "source": [
    "Задача 1 Даны значения величины заработной платы заемщиков банка (zp) и значения их\\\n",
    "поведенческого кредитного скоринга (ks):\\\n",
    "zp = [35, 45, 190, 200, 40, 70, 54, 150, 120, 110],\\\n",
    "ks = [401, 574, 874, 919, 459, 739, 653, 902, 746, 832].\\\n",
    "Найдите ковариацию этих двух величин с помощью элементарных действий, а затем с\n",
    "помощью функции cov из numpy\\\n",
    "Полученные значения должны быть равны.\\\n",
    "Найдите коэффициент корреляции Пирсона с помощью ковариации и\n",
    "среднеквадратичных отклонений двух признаков,\n",
    "а затем с использованием функций из библиотек numpy и pandas."
   ]
  },
  {
   "attachments": {},
   "cell_type": "markdown",
   "metadata": {},
   "source": [
    "cov = E(ZPi-ZPavg)*(KSi-KSavg)/ N-1 или\\\n",
    "cov = M(zp*ks) - M(zp)*M(ks)"
   ]
  },
  {
   "cell_type": "code",
   "execution_count": 80,
   "metadata": {},
   "outputs": [],
   "source": [
    "zp = np.array([35, 45, 190, 200, 40, 70, 54, 150, 120, 110])\n",
    "ks = np.array([401, 574, 874, 919, 459, 739, 653, 902, 746, 832])"
   ]
  },
  {
   "cell_type": "code",
   "execution_count": 81,
   "metadata": {},
   "outputs": [
    {
     "name": "stdout",
     "output_type": "stream",
     "text": [
      "Значение ковариации в ручную = 9157.839999999997\n"
     ]
    }
   ],
   "source": [
    "cov = np.mean(zp*ks)-np.mean(zp)*np.mean(ks)\n",
    "print(f\"Значение ковариации в ручную = {cov}\")"
   ]
  },
  {
   "attachments": {},
   "cell_type": "markdown",
   "metadata": {},
   "source": [
    "Смещенная коариация"
   ]
  },
  {
   "cell_type": "code",
   "execution_count": 82,
   "metadata": {},
   "outputs": [
    {
     "name": "stdout",
     "output_type": "stream",
     "text": [
      "Значение ковариации с использованием функции = 9157.84\n"
     ]
    }
   ],
   "source": [
    "print(f'Значение ковариации с использованием функции = {np.cov(zp,ks, ddof = 0)[0,1]}')"
   ]
  },
  {
   "attachments": {},
   "cell_type": "markdown",
   "metadata": {},
   "source": [
    "cor_coef = cov/std_zp*std_ks"
   ]
  },
  {
   "cell_type": "code",
   "execution_count": 83,
   "metadata": {},
   "outputs": [
    {
     "name": "stdout",
     "output_type": "stream",
     "text": [
      "Значение коэфициента корреляции Пирсона в ручную = 0.8874900920739162\n"
     ]
    }
   ],
   "source": [
    "cor_coef = np.cov(zp,ks, ddof = 0)[0,1]/(np.std(zp, ddof = 0)*np.std(ks, ddof = 0))\n",
    "print(f'Значение коэфициента корреляции Пирсона в ручную = {cor_coef}')"
   ]
  },
  {
   "cell_type": "code",
   "execution_count": 84,
   "metadata": {},
   "outputs": [
    {
     "name": "stdout",
     "output_type": "stream",
     "text": [
      "Значение коэфициента корреляции с использованием функции = 0.8874900920739162\n"
     ]
    }
   ],
   "source": [
    "print(f'Значение коэфициента корреляции с использованием функции = {np.corrcoef(zp,ks)[0,1]}')"
   ]
  },
  {
   "attachments": {},
   "cell_type": "markdown",
   "metadata": {},
   "source": [
    "Задача 2 Измерены значения IQ выборки студентов,\n",
    "обучающихся в местных технических вузах:\\\n",
    "131, 125, 115, 122, 131, 115, 107, 99, 125, 111\\\n",
    "Известно, что в генеральной совокупности IQ распределен нормально.\n",
    "Найдите доверительный интервал для математического ожидания с надежностью 0.95."
   ]
  },
  {
   "cell_type": "code",
   "execution_count": 85,
   "metadata": {},
   "outputs": [],
   "source": [
    "import scipy.stats as stats"
   ]
  },
  {
   "cell_type": "code",
   "execution_count": 86,
   "metadata": {},
   "outputs": [
    {
     "data": {
      "text/plain": [
       "118.1"
      ]
     },
     "execution_count": 86,
     "metadata": {},
     "output_type": "execute_result"
    }
   ],
   "source": [
    "IQ_1 = np.array([131, 125, 115, 122, 131, 115, 107, 99, 125, 111])\n",
    "# Вычислим седне арефметическое для выборки:\n",
    "arph_avg = np.mean(IQ_1)\n",
    "arph_avg"
   ]
  },
  {
   "cell_type": "code",
   "execution_count": 87,
   "metadata": {},
   "outputs": [
    {
     "data": {
      "text/plain": [
       "111.21111111111111"
      ]
     },
     "execution_count": 87,
     "metadata": {},
     "output_type": "execute_result"
    }
   ],
   "source": [
    "# вычислим несмещенную дисперсию для выборки\n",
    "D1 = np.var(IQ_1, ddof = 1)\n",
    "D1"
   ]
  },
  {
   "cell_type": "code",
   "execution_count": 88,
   "metadata": {},
   "outputs": [
    {
     "data": {
      "text/plain": [
       "2.2621571627409915"
      ]
     },
     "execution_count": 88,
     "metadata": {},
     "output_type": "execute_result"
    }
   ],
   "source": [
    "# доверительный интервал для среднего\n",
    "t_1 = stats.t.ppf(0.975, 9)\n",
    "t_1"
   ]
  },
  {
   "cell_type": "code",
   "execution_count": 89,
   "metadata": {},
   "outputs": [
    {
     "name": "stdout",
     "output_type": "stream",
     "text": [
      "Доверительный интервал для мат. ожидания =118.1 с надежностью 95% составит:\n",
      "нижнее значение = 110.55608365158724, верхнее значение = 125.64391634841274\n"
     ]
    }
   ],
   "source": [
    "M_data_1 = arph_avg - t_1*np.sqrt(D1/10)\n",
    "M_data_2 = arph_avg + t_1*np.sqrt(D1/10)\n",
    "print(f'Доверительный интервал для мат. ожидания ={arph_avg} с надежностью 95% составит:' '\\n'\n",
    "f'нижнее значение = {M_data_1}, верхнее значение = {M_data_2}')"
   ]
  },
  {
   "attachments": {},
   "cell_type": "markdown",
   "metadata": {},
   "source": [
    "Задача 3.\n",
    "Известно, что рост футболистов в сборной распределен нормально\n",
    "с дисперсией генеральной совокупности, равной 25 кв.см. Объем выборки равен 27,\n",
    "среднее выборочное составляет 174.2. Найдите доверительный интервал для\n",
    "математического\n",
    "ожидания с надежностью 0.95."
   ]
  },
  {
   "attachments": {},
   "cell_type": "markdown",
   "metadata": {},
   "source": [
    "Нижниий предел: X_ar_avg - Z(alfa/2)*sqrt(D)/sqrt(n)\\\n",
    "Вехний предел: X_ar_avg - Z(alfa/2)*sqrt(D)/sqrt(n)"
   ]
  },
  {
   "cell_type": "code",
   "execution_count": 90,
   "metadata": {},
   "outputs": [],
   "source": [
    "X_ar_avg =174.2\n",
    "D = 25\n",
    "n = 27\n",
    "alfa = 0.95\n",
    "z_alfa_2 = 1.96"
   ]
  },
  {
   "cell_type": "code",
   "execution_count": 91,
   "metadata": {},
   "outputs": [
    {
     "name": "stdout",
     "output_type": "stream",
     "text": [
      "Доверительный интервал для мат. ожидания =174.2 с надежностью 95% составит:\n",
      "нижнее значение = 172.31398912064722, верхнее значение = 176.08601087935276\n"
     ]
    }
   ],
   "source": [
    "M_1 = X_ar_avg - z_alfa_2*np.sqrt(D)/np.sqrt(n)\n",
    "M_2 = X_ar_avg + z_alfa_2*np.sqrt(D)/np.sqrt(n)\n",
    "print(f'Доверительный интервал для мат. ожидания ={X_ar_avg} с надежностью 95% составит:' '\\n'\n",
    "f'нижнее значение = {M_1}, верхнее значение = {M_2}')"
   ]
  }
 ],
 "metadata": {
  "kernelspec": {
   "display_name": "Python 3",
   "language": "python",
   "name": "python3"
  },
  "language_info": {
   "codemirror_mode": {
    "name": "ipython",
    "version": 3
   },
   "file_extension": ".py",
   "mimetype": "text/x-python",
   "name": "python",
   "nbconvert_exporter": "python",
   "pygments_lexer": "ipython3",
   "version": "3.10.6"
  },
  "orig_nbformat": 4
 },
 "nbformat": 4,
 "nbformat_minor": 2
}
